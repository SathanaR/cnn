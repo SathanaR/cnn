{
 "cells": [
  {
   "cell_type": "code",
   "execution_count": 75,
   "id": "b85008ff",
   "metadata": {},
   "outputs": [],
   "source": [
    "from mnist import *\n",
    "import matplotlib.pyplot as plt\n",
    "from keras.models import Sequential\n",
    "from tensorflow.keras import layers\n",
    "import numpy as np\n",
    "import tensorflow as tf"
   ]
  },
  {
   "cell_type": "code",
   "execution_count": 76,
   "id": "a7acdbf0",
   "metadata": {},
   "outputs": [],
   "source": [
    "trainimage=train_images()[0:1000]\n",
    "trainlabel=train_labels()[0:1000]\n",
    "testimage=test_images()[0:1000]\n",
    "testlabel=test_labels()[0:1000]"
   ]
  },
  {
   "cell_type": "code",
   "execution_count": 77,
   "id": "47979f39",
   "metadata": {},
   "outputs": [
    {
     "data": {
      "text/plain": [
       "5"
      ]
     },
     "execution_count": 77,
     "metadata": {},
     "output_type": "execute_result"
    }
   ],
   "source": [
    "trainlabel[0]"
   ]
  },
  {
   "cell_type": "code",
   "execution_count": 78,
   "id": "f9972e31",
   "metadata": {},
   "outputs": [
    {
     "data": {
      "text/plain": [
       "<matplotlib.image.AxesImage at 0x22a6eb52ee0>"
      ]
     },
     "execution_count": 78,
     "metadata": {},
     "output_type": "execute_result"
    },
    {
     "data": {
      "image/png": "[encoded data removed]",
      "text/plain": [
       "<Figure size 432x288 with 1 Axes>"
      ]
     },
     "metadata": {
      "needs_background": "light"
     },
     "output_type": "display_data"
    }
   ],
   "source": [
    "plt.imshow(trainimage[0],cmap='gray')"
   ]
  },
  {
   "cell_type": "code",
   "execution_count": 79,
   "id": "9f8fb8d1",
   "metadata": {},
   "outputs": [
    {
     "data": {
      "text/plain": [
       "(1000, 28, 28)"
      ]
     },
     "execution_count": 79,
     "metadata": {},
     "output_type": "execute_result"
    }
   ],
   "source": [
    "trainimage.shape"
   ]
  },
  {
   "cell_type": "code",
   "execution_count": 80,
   "id": "f3fac6e1",
   "metadata": {},
   "outputs": [
    {
     "data": {
      "text/plain": [
       "(28, 28)"
      ]
     },
     "execution_count": 80,
     "metadata": {},
     "output_type": "execute_result"
    }
   ],
   "source": [
    "trainimage[0].shape"
   ]
  },
  {
   "cell_type": "code",
   "execution_count": 81,
   "id": "6cc1a61b",
   "metadata": {},
   "outputs": [
    {
     "data": {
      "text/plain": [
       "dtype('uint8')"
      ]
     },
     "execution_count": 81,
     "metadata": {},
     "output_type": "execute_result"
    }
   ],
   "source": [
    "trainlabel.dtype#integers(unasigned int)"
   ]
  },
  {
   "cell_type": "code",
   "execution_count": 82,
   "id": "4ef1857b",
   "metadata": {},
   "outputs": [],
   "source": [
    "model = Sequential()\n",
    "model.add(layers.Conv2D(32,(3,3),input_shape = (28,28,1),activation=\"relu\"))  #convolution layer and  28x28 is pixel size and 1 is due to grayscale and 3 for coloured image\n",
    "model.add(layers.MaxPooling2D((2,2))) #pooling layer\n",
    "model.add(layers.Conv2D(64,(3,3),activation=\"relu\"))\n",
    "model.add(layers.MaxPooling2D((2,2)))\n",
    "model.add(layers.Flatten()) #flatten the data to get no format\n",
    "model.add(layers.Dense(64,activation = \"relu\")) \n",
    "model.add(layers.Dense(10,activation=\"softmax\"))\n",
    "model.compile(loss='categorical_crossentropy',optimizer='adam',metrics=['accuracy'])"
   ]
  },
  {
   "cell_type": "code",
   "execution_count": 83,
   "id": "5d42f881",
   "metadata": {},
   "outputs": [],
   "source": [
    "trainlabel=tf.keras.utils.to_categorical(trainlabel)"
   ]
  },
  {
   "cell_type": "code",
   "execution_count": 84,
   "id": "2550acff",
   "metadata": {},
   "outputs": [],
   "source": [
    "testlabel=tf.keras.utils.to_categorical(testlabel,dtype='str')"
   ]
  },
  {
   "cell_type": "code",
   "execution_count": 85,
   "id": "46912cdb",
   "metadata": {},
   "outputs": [],
   "source": [
    "trainimage=trainimage.reshape(1000,28,28,1)"
   ]
  },
  {
   "cell_type": "code",
   "execution_count": 86,
   "id": "8c9b7280",
   "metadata": {},
   "outputs": [
    {
     "data": {
      "text/plain": [
       "(1000, 28, 28, 1)"
      ]
     },
     "execution_count": 86,
     "metadata": {},
     "output_type": "execute_result"
    }
   ],
   "source": [
    "trainimage.shape"
   ]
  },
  {
   "cell_type": "code",
   "execution_count": 87,
   "id": "6ac68a6d",
   "metadata": {},
   "outputs": [],
   "source": [
    "trainimage=trainimage.astype('float32')/255"
   ]
  },
  {
   "cell_type": "code",
   "execution_count": 88,
   "id": "87c1f9b2",
   "metadata": {},
   "outputs": [
    {
     "name": "stdout",
     "output_type": "stream",
     "text": [
      "Epoch 1/50\n",
      "32/32 [==============================] - 2s 29ms/step - loss: 1.8061 - accuracy: 0.4740\n",
      "Epoch 2/50\n",
      "32/32 [==============================] - 1s 29ms/step - loss: 0.6068 - accuracy: 0.8240\n",
      "Epoch 3/50\n",
      "32/32 [==============================] - 1s 29ms/step - loss: 0.3538 - accuracy: 0.8940\n",
      "Epoch 4/50\n",
      "32/32 [==============================] - 1s 29ms/step - loss: 0.2487 - accuracy: 0.9350\n",
      "Epoch 5/50\n",
      "32/32 [==============================] - 1s 29ms/step - loss: 0.1758 - accuracy: 0.9540\n",
      "Epoch 6/50\n",
      "32/32 [==============================] - 1s 28ms/step - loss: 0.1386 - accuracy: 0.9640\n",
      "Epoch 7/50\n",
      "32/32 [==============================] - 1s 19ms/step - loss: 0.1283 - accuracy: 0.9560\n",
      "Epoch 8/50\n",
      "32/32 [==============================] - 1s 19ms/step - loss: 0.0965 - accuracy: 0.9700\n",
      "Epoch 9/50\n",
      "32/32 [==============================] - 1s 20ms/step - loss: 0.0593 - accuracy: 0.9830\n",
      "Epoch 10/50\n",
      "32/32 [==============================] - 1s 19ms/step - loss: 0.0597 - accuracy: 0.9850\n",
      "Epoch 11/50\n",
      "32/32 [==============================] - 1s 20ms/step - loss: 0.0580 - accuracy: 0.9810\n",
      "Epoch 12/50\n",
      "32/32 [==============================] - 1s 20ms/step - loss: 0.0458 - accuracy: 0.9850\n",
      "Epoch 13/50\n",
      "32/32 [==============================] - 1s 21ms/step - loss: 0.0268 - accuracy: 0.9950\n",
      "Epoch 14/50\n",
      "32/32 [==============================] - 1s 20ms/step - loss: 0.0161 - accuracy: 0.9970\n",
      "Epoch 15/50\n",
      "32/32 [==============================] - 1s 19ms/step - loss: 0.0109 - accuracy: 1.0000\n",
      "Epoch 16/50\n",
      "32/32 [==============================] - 1s 19ms/step - loss: 0.0074 - accuracy: 1.0000\n",
      "Epoch 17/50\n",
      "32/32 [==============================] - 1s 19ms/step - loss: 0.0049 - accuracy: 1.0000\n",
      "Epoch 18/50\n",
      "32/32 [==============================] - 1s 20ms/step - loss: 0.0038 - accuracy: 1.0000\n",
      "Epoch 19/50\n",
      "32/32 [==============================] - 1s 20ms/step - loss: 0.0031 - accuracy: 1.0000\n",
      "Epoch 20/50\n",
      "32/32 [==============================] - 1s 21ms/step - loss: 0.0025 - accuracy: 1.0000\n",
      "Epoch 21/50\n",
      "32/32 [==============================] - 1s 20ms/step - loss: 0.0023 - accuracy: 1.0000\n",
      "Epoch 22/50\n",
      "32/32 [==============================] - 1s 20ms/step - loss: 0.0020 - accuracy: 1.0000\n",
      "Epoch 23/50\n",
      "32/32 [==============================] - 1s 20ms/step - loss: 0.0018 - accuracy: 1.0000\n",
      "Epoch 24/50\n",
      "32/32 [==============================] - 1s 19ms/step - loss: 0.0017 - accuracy: 1.0000\n",
      "Epoch 25/50\n",
      "32/32 [==============================] - 1s 19ms/step - loss: 0.0014 - accuracy: 1.0000\n",
      "Epoch 26/50\n",
      "32/32 [==============================] - 1s 18ms/step - loss: 0.0013 - accuracy: 1.0000\n",
      "Epoch 27/50\n",
      "32/32 [==============================] - 1s 19ms/step - loss: 0.0011 - accuracy: 1.0000\n",
      "Epoch 28/50\n",
      "32/32 [==============================] - 1s 19ms/step - loss: 0.0010 - accuracy: 1.0000\n",
      "Epoch 29/50\n",
      "32/32 [==============================] - 1s 18ms/step - loss: 9.6645e-04 - accuracy: 1.0000\n",
      "Epoch 30/50\n",
      "32/32 [==============================] - 1s 20ms/step - loss: 8.7573e-04 - accuracy: 1.0000\n",
      "Epoch 31/50\n",
      "32/32 [==============================] - 1s 18ms/step - loss: 8.2530e-04 - accuracy: 1.0000\n",
      "Epoch 32/50\n",
      "32/32 [==============================] - 1s 21ms/step - loss: 7.6269e-04 - accuracy: 1.0000\n",
      "Epoch 33/50\n",
      "32/32 [==============================] - 1s 21ms/step - loss: 7.0241e-04 - accuracy: 1.0000\n",
      "Epoch 34/50\n",
      "32/32 [==============================] - 1s 20ms/step - loss: 6.5920e-04 - accuracy: 1.0000\n",
      "Epoch 35/50\n",
      "32/32 [==============================] - 1s 20ms/step - loss: 6.1798e-04 - accuracy: 1.0000\n",
      "Epoch 36/50\n",
      "32/32 [==============================] - 1s 21ms/step - loss: 5.7397e-04 - accuracy: 1.0000\n",
      "Epoch 37/50\n",
      "32/32 [==============================] - 1s 20ms/step - loss: 5.5023e-04 - accuracy: 1.0000\n",
      "Epoch 38/50\n",
      "32/32 [==============================] - 1s 21ms/step - loss: 5.1954e-04 - accuracy: 1.0000\n",
      "Epoch 39/50\n",
      "32/32 [==============================] - 1s 21ms/step - loss: 4.7756e-04 - accuracy: 1.0000\n",
      "Epoch 40/50\n",
      "32/32 [==============================] - 1s 20ms/step - loss: 4.5298e-04 - accuracy: 1.0000\n",
      "Epoch 41/50\n",
      "32/32 [==============================] - 1s 20ms/step - loss: 4.2872e-04 - accuracy: 1.0000\n",
      "Epoch 42/50\n",
      "32/32 [==============================] - 1s 20ms/step - loss: 4.1330e-04 - accuracy: 1.0000\n",
      "Epoch 43/50\n",
      "32/32 [==============================] - 1s 20ms/step - loss: 3.8468e-04 - accuracy: 1.0000\n",
      "Epoch 44/50\n",
      "32/32 [==============================] - 1s 20ms/step - loss: 3.6376e-04 - accuracy: 1.0000\n",
      "Epoch 45/50\n",
      "32/32 [==============================] - 1s 20ms/step - loss: 3.4846e-04 - accuracy: 1.0000\n",
      "Epoch 46/50\n",
      "32/32 [==============================] - 1s 19ms/step - loss: 3.3713e-04 - accuracy: 1.0000\n",
      "Epoch 47/50\n",
      "32/32 [==============================] - 1s 19ms/step - loss: 3.1853e-04 - accuracy: 1.0000\n",
      "Epoch 48/50\n",
      "32/32 [==============================] - 1s 19ms/step - loss: 3.0388e-04 - accuracy: 1.0000\n",
      "Epoch 49/50\n",
      "32/32 [==============================] - 1s 20ms/step - loss: 2.8731e-04 - accuracy: 1.0000\n",
      "Epoch 50/50\n",
      "32/32 [==============================] - 1s 19ms/step - loss: 2.7938e-04 - accuracy: 1.0000\n"
     ]
    },
    {
     "data": {
      "text/plain": [
       "<keras.callbacks.History at 0x22a034d4850>"
      ]
     },
     "execution_count": 88,
     "metadata": {},
     "output_type": "execute_result"
    }
   ],
   "source": [
    "model.fit(trainimage,trainlabel,epochs=50)"
   ]
  },
  {
   "cell_type": "code",
   "execution_count": 89,
   "id": "37339a29",
   "metadata": {},
   "outputs": [
    {
     "name": "stdout",
     "output_type": "stream",
     "text": [
      "32/32 [==============================] - 1s 7ms/step - loss: 2.5494e-04 - accuracy: 1.0000\n"
     ]
    },
    {
     "data": {
      "text/plain": [
       "[0.0002549361379351467, 1.0]"
      ]
     },
     "execution_count": 89,
     "metadata": {},
     "output_type": "execute_result"
    }
   ],
   "source": [
    "model.evaluate(trainimage,trainlabel)"
   ]
  }
 ],
 "metadata": {
  "kernelspec": {
   "display_name": "Python 3 (ipykernel)",
   "language": "python",
   "name": "python3"
  },
  "language_info": {
   "codemirror_mode": {
    "name": "ipython",
    "version": 3
   },
   "file_extension": ".py",
   "mimetype": "text/x-python",
   "name": "python",
   "nbconvert_exporter": "python",
   "pygments_lexer": "ipython3",
   "version": "3.9.7"
  }
 },
 "nbformat": 4,
 "nbformat_minor": 5
}
